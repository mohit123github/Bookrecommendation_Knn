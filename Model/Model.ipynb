{
 "cells": [
  {
   "cell_type": "markdown",
   "id": "cc217ba6",
   "metadata": {},
   "source": [
    "- bookID: Unique identification number fro each book\n",
    "- title: Name under which book was published\n",
    "- authors: Name of the Authors of the book\n",
    "- average_rating: Avarage rating of the book recevied in total.\n",
    "- isbn: International standarded book number\n",
    "- isbn13: 13 digit isbn to identify the book\n",
    "- language_code: Primary Language of the book\n",
    "- num_pages: Number of pages the book containes\n",
    "- ratings_count: Total Number of ratings the book recevied.\n",
    "- text_reviews_count: Total number of written reviews recevied.\n",
    "- publication_date: Date when the book was first published\n",
    "- publisher: Name of the Pulishers"
   ]
  },
  {
   "cell_type": "code",
   "execution_count": null,
   "id": "7af4f12e",
   "metadata": {},
   "outputs": [],
   "source": [
    "import pandas as pd\n",
    "import numpy as np\n",
    "\n",
    "# for data visualisation\n",
    "import matplotlib.pyplot as plt\n",
    "import seaborn as sns\n",
    "import re\n",
    "\n"
   ]
  },
  {
   "cell_type": "code",
   "execution_count": null,
   "id": "07bb6ad5",
   "metadata": {},
   "outputs": [],
   "source": [
    "df = pd.read_csv(r\"C:\\Users\\user\\OneDrive\\diug\\OneDrive\\Desktop\\Book-Recommendation-system\\dataset\\books.csv\", on_bad_lines = 'skip')"
   ]
  },
  {
   "cell_type": "code",
   "execution_count": null,
   "id": "4b640a4f",
   "metadata": {},
   "outputs": [],
   "source": [
    "df.head(5)"
   ]
  },
  {
   "cell_type": "code",
   "execution_count": null,
   "id": "cca075b4",
   "metadata": {},
   "outputs": [],
   "source": [
    "df.shape"
   ]
  },
  {
   "cell_type": "code",
   "execution_count": null,
   "id": "6a0eb1eb",
   "metadata": {},
   "outputs": [],
   "source": [
    "df.columns"
   ]
  },
  {
   "cell_type": "code",
   "execution_count": null,
   "id": "0252b668",
   "metadata": {},
   "outputs": [],
   "source": [
    "df.columns = df.columns.str.strip()"
   ]
  },
  {
   "cell_type": "code",
   "execution_count": null,
   "id": "4b70fb2e",
   "metadata": {},
   "outputs": [],
   "source": [
    "df.columns"
   ]
  },
  {
   "cell_type": "code",
   "execution_count": null,
   "id": "bd5b9b83",
   "metadata": {},
   "outputs": [],
   "source": [
    "df.dtypes"
   ]
  },
  {
   "cell_type": "code",
   "execution_count": null,
   "id": "1c71a49b",
   "metadata": {},
   "outputs": [],
   "source": [
    "df.describe()"
   ]
  },
  {
   "cell_type": "code",
   "execution_count": null,
   "id": "d82cb543",
   "metadata": {},
   "outputs": [],
   "source": [
    "df.describe(include = 'object')"
   ]
  },
  {
   "cell_type": "code",
   "execution_count": null,
   "id": "50336c1f",
   "metadata": {},
   "outputs": [],
   "source": [
    "df.isnull().sum()"
   ]
  },
  {
   "cell_type": "code",
   "execution_count": null,
   "id": "49189eff",
   "metadata": {},
   "outputs": [],
   "source": [
    "df.duplicated().any()"
   ]
  },
  {
   "cell_type": "code",
   "execution_count": null,
   "id": "e0aa9af8",
   "metadata": {},
   "outputs": [],
   "source": [
    "df.info()"
   ]
  },
  {
   "cell_type": "markdown",
   "id": "1ad2658f",
   "metadata": {},
   "source": [
    "# Feature Engineering"
   ]
  },
  {
   "cell_type": "markdown",
   "id": "8297d770",
   "metadata": {},
   "source": [
    "- Extract Important Features\n",
    "- Reducing the size of Features\n",
    "- Creating new features from the existring ones"
   ]
  },
  {
   "cell_type": "code",
   "execution_count": null,
   "id": "60b161ea",
   "metadata": {},
   "outputs": [],
   "source": [
    "df.columns"
   ]
  },
  {
   "cell_type": "code",
   "execution_count": null,
   "id": "a264cafb",
   "metadata": {},
   "outputs": [],
   "source": [
    "df.isbn.nunique()\n",
    "\n"
   ]
  },
  {
   "cell_type": "code",
   "execution_count": null,
   "id": "bfa805fa",
   "metadata": {},
   "outputs": [],
   "source": [
    "df.isbn13.nunique()"
   ]
  },
  {
   "cell_type": "code",
   "execution_count": null,
   "id": "da73e7bf",
   "metadata": {},
   "outputs": [],
   "source": [
    "df.drop(['bookID', 'isbn', 'isbn13','text_reviews_count'], axis = 1, inplace = True)"
   ]
  },
  {
   "cell_type": "code",
   "execution_count": null,
   "id": "99d440ec",
   "metadata": {},
   "outputs": [],
   "source": [
    "df.columns"
   ]
  },
  {
   "cell_type": "code",
   "execution_count": null,
   "id": "45a82a2d",
   "metadata": {},
   "outputs": [],
   "source": [
    "df[['publication_date']]"
   ]
  },
  {
   "cell_type": "code",
   "execution_count": null,
   "id": "0f813d04",
   "metadata": {},
   "outputs": [],
   "source": [
    "df['year'] = df['publication_date'].str.split('/')\n",
    "df['year'] = df['year'].apply(lambda x: x[2])"
   ]
  },
  {
   "cell_type": "code",
   "execution_count": null,
   "id": "8145135d",
   "metadata": {},
   "outputs": [],
   "source": [
    "df.head(2)"
   ]
  },
  {
   "cell_type": "code",
   "execution_count": null,
   "id": "c69cb488",
   "metadata": {},
   "outputs": [],
   "source": [
    "df.dtypes"
   ]
  },
  {
   "cell_type": "code",
   "execution_count": null,
   "id": "6f858f57",
   "metadata": {},
   "outputs": [],
   "source": [
    "df['year'] = df['year'].astype('int')"
   ]
  },
  {
   "cell_type": "code",
   "execution_count": null,
   "id": "2629cc28",
   "metadata": {},
   "outputs": [],
   "source": [
    "df.dtypes"
   ]
  },
  {
   "cell_type": "code",
   "execution_count": null,
   "id": "c550ec37",
   "metadata": {},
   "outputs": [],
   "source": [
    "df.columns"
   ]
  },
  {
   "cell_type": "code",
   "execution_count": null,
   "id": "185a1fa2",
   "metadata": {},
   "outputs": [],
   "source": [
    "df['year'].min()"
   ]
  },
  {
   "cell_type": "code",
   "execution_count": null,
   "id": "d7e5caa8",
   "metadata": {},
   "outputs": [],
   "source": [
    "df['year'].max()"
   ]
  },
  {
   "cell_type": "code",
   "execution_count": null,
   "id": "d6062a03",
   "metadata": {},
   "outputs": [],
   "source": [
    "df.columns"
   ]
  },
  {
   "cell_type": "code",
   "execution_count": null,
   "id": "c3d69d50",
   "metadata": {},
   "outputs": [],
   "source": [
    "df['authors'] = df['authors'].str.split('/').str[0]\n"
   ]
  },
  {
   "cell_type": "code",
   "execution_count": null,
   "id": "d7379303",
   "metadata": {},
   "outputs": [],
   "source": [
    "df.head(5)"
   ]
  },
  {
   "cell_type": "markdown",
   "id": "e0cc4c1e",
   "metadata": {},
   "source": [
    "# Exploratory Data Analysis"
   ]
  },
  {
   "cell_type": "code",
   "execution_count": null,
   "id": "153f37e0",
   "metadata": {},
   "outputs": [],
   "source": [
    "df[df['year'] == 2020][['title', 'authors','average_rating','language_code','publisher' ]]"
   ]
  },
  {
   "cell_type": "code",
   "execution_count": null,
   "id": "89682359",
   "metadata": {},
   "outputs": [],
   "source": [
    "df.groupby(['year'])['title'].agg('count').sort_values(ascending = False).head(10)"
   ]
  },
  {
   "cell_type": "code",
   "execution_count": null,
   "id": "e05fac22",
   "metadata": {},
   "outputs": [],
   "source": [
    "df['year'].max()"
   ]
  },
  {
   "cell_type": "code",
   "execution_count": null,
   "id": "130ce8e5",
   "metadata": {},
   "outputs": [],
   "source": [
    "df.tail(5)"
   ]
  },
  {
   "cell_type": "code",
   "execution_count": null,
   "id": "fc70e488",
   "metadata": {},
   "outputs": [],
   "source": [
    "plt.figure(figsize = (20, 10))\n",
    "sns.countplot(x = 'authors', data = df,\n",
    "             order = df['authors'].value_counts().iloc[:10].index,color='green')\n",
    "plt.title(\"Top 10 Authors with maximum book publish\")\n",
    "plt.xticks(fontsize = 12)\n",
    "plt.show()"
   ]
  },
  {
   "cell_type": "code",
   "execution_count": null,
   "id": "c81b3b1e",
   "metadata": {},
   "outputs": [],
   "source": [
    "df.columns"
   ]
  },
  {
   "cell_type": "code",
   "execution_count": null,
   "id": "2005c342",
   "metadata": {},
   "outputs": [],
   "source": [
    "df.language_code.value_counts()"
   ]
  },
  {
   "cell_type": "code",
   "execution_count": null,
   "id": "274922fd",
   "metadata": {},
   "outputs": [],
   "source": [
    "df.groupby(['language_code'])[['average_rating', \n",
    "                               'ratings_count', \n",
    "                               ]].agg('mean').style.background_gradient(cmap = 'Wistia')\n"
   ]
  },
  {
   "cell_type": "code",
   "execution_count": null,
   "id": "35bc5ca2",
   "metadata": {},
   "outputs": [],
   "source": [
    "book = df['title'].value_counts()[:20]\n",
    "book"
   ]
  },
  {
   "cell_type": "code",
   "execution_count": null,
   "id": "4a146c6a",
   "metadata": {},
   "outputs": [],
   "source": [
    "# to find most occuring book in our data\n",
    "plt.figure(figsize = (20, 6))\n",
    "book = df['title'].value_counts()[:20]\n",
    "sns.barplot(x = book.index, y = book,\n",
    "           palette = 'winter_r')\n",
    "plt.title(\"Most occuring Books\")\n",
    "plt.xlabel(\"Number of Occurance\")\n",
    "plt.ylabel(\"Books\")\n",
    "plt.xticks(rotation = 75, fontsize = 13)\n",
    "plt.show()\n",
    "\n",
    "\n",
    "# sns.barplot(...): This function creates a bar plot.\n",
    "# x=book.index: Sets the x-axis to display the book titles (the index of the book Series).\n",
    "# y=book: Sets the y-axis to display the counts of occurrences.\n",
    "# palette='winter_r': Specifies a color palette for the bars. The 'winter_r' palette provides a gradient of colors from blue to green."
   ]
  },
  {
   "cell_type": "code",
   "execution_count": null,
   "id": "9ae4e41b",
   "metadata": {},
   "outputs": [],
   "source": [
    "sns.distplot(df['average_rating'])\n",
    "plt.show()"
   ]
  },
  {
   "cell_type": "code",
   "execution_count": null,
   "id": "460ed602",
   "metadata": {},
   "outputs": [],
   "source": [
    "df[df.average_rating == df.average_rating.max()][['title','authors','language_code','publisher']]"
   ]
  },
  {
   "cell_type": "code",
   "execution_count": null,
   "id": "850aec7d",
   "metadata": {},
   "outputs": [],
   "source": [
    "publisher = df['publisher'].value_counts()[:20]\n",
    "publisher"
   ]
  },
  {
   "cell_type": "code",
   "execution_count": null,
   "id": "38ab526a",
   "metadata": {},
   "outputs": [],
   "source": [
    "publisher = df['publisher'].value_counts()[:20]\n",
    "sns.barplot(x = publisher.index, y = publisher, palette = 'winter_r')\n",
    "plt.title(\"Publishers\")\n",
    "plt.xlabel(\"Number of Occurance\")\n",
    "plt.ylabel(\"Publishers\")\n",
    "plt.xticks(rotation = 75, fontsize = 12)\n",
    "plt.show()"
   ]
  },
  {
   "cell_type": "code",
   "execution_count": null,
   "id": "757f8866",
   "metadata": {},
   "outputs": [],
   "source": [
    "# df.publisher.value_counts()\n",
    "df[['publisher']].value_counts()"
   ]
  },
  {
   "cell_type": "code",
   "execution_count": null,
   "id": "f7d84f6d",
   "metadata": {},
   "outputs": [],
   "source": [
    "df.to_csv(r'C:\\Users\\user\\OneDrive\\diug\\OneDrive\\Desktop\\Book-Recommendation-system\\dataset\\cleaned_data.csv',index=False)\n"
   ]
  },
  {
   "cell_type": "markdown",
   "id": "8b99e4e8",
   "metadata": {},
   "source": [
    "# Data Preprocessing"
   ]
  },
  {
   "cell_type": "code",
   "execution_count": null,
   "id": "ef000752",
   "metadata": {},
   "outputs": [],
   "source": [
    "df= pd.read_csv(r\"C:\\Users\\user\\OneDrive\\diug\\OneDrive\\Desktop\\Book-Recommendation-system\\dataset\\cleaned_data.csv\")"
   ]
  },
  {
   "cell_type": "code",
   "execution_count": null,
   "id": "279ae12c",
   "metadata": {},
   "outputs": [],
   "source": [
    "df.head(5)"
   ]
  },
  {
   "cell_type": "code",
   "execution_count": null,
   "id": "c500a8a3",
   "metadata": {},
   "outputs": [],
   "source": [
    "def num_to_obj(x):\n",
    "    if x >0 and x <=1:\n",
    "        return \"between 0 and 1\"\n",
    "    if x > 1 and x <= 2:\n",
    "        return \"between 1 and 2\"\n",
    "    if x > 2 and x <=3:\n",
    "        return \"between 2 and 3\"\n",
    "    if x >3 and x<=4:\n",
    "        return \"between 3 and 4\"\n",
    "    if x >4 and x<=5:\n",
    "        return \"between 4 and 5\"\n",
    "df['rating_obj'] = df['average_rating'].apply(num_to_obj)"
   ]
  },
  {
   "cell_type": "code",
   "execution_count": null,
   "id": "06c30f89",
   "metadata": {},
   "outputs": [],
   "source": [
    "df['rating_obj'].value_counts()"
   ]
  },
  {
   "cell_type": "code",
   "execution_count": null,
   "id": "f2128976",
   "metadata": {
    "scrolled": true
   },
   "outputs": [],
   "source": [
    "rating_df = pd.get_dummies(df['rating_obj'])     #one hot encoding\n",
    "rating_df.head()"
   ]
  },
  {
   "cell_type": "code",
   "execution_count": null,
   "id": "17888047",
   "metadata": {},
   "outputs": [],
   "source": [
    "df.columns"
   ]
  },
  {
   "cell_type": "code",
   "execution_count": null,
   "id": "2fc63fd4",
   "metadata": {},
   "outputs": [],
   "source": [
    "language_df = pd.get_dummies(df['language_code'])\n",
    "language_df.head()"
   ]
  },
  {
   "cell_type": "code",
   "execution_count": null,
   "id": "62394a01",
   "metadata": {},
   "outputs": [],
   "source": [
    "df[df['publisher']=='Scholastic Inc.'].count()"
   ]
  },
  {
   "cell_type": "code",
   "execution_count": null,
   "id": "907b25fa",
   "metadata": {},
   "outputs": [],
   "source": [
    "df[df['title']=='The Secret Garden']"
   ]
  },
  {
   "cell_type": "code",
   "execution_count": null,
   "id": "ee3298a1",
   "metadata": {},
   "outputs": [],
   "source": [
    "publisher_df=pd.get_dummies(df['publisher'])\n",
    "publisher_df.head(5)"
   ]
  },
  {
   "cell_type": "code",
   "execution_count": null,
   "id": "cb8ef185",
   "metadata": {},
   "outputs": [],
   "source": [
    "# Summing the one-hot encoded publisher DataFrame to get the count of books per publisher\n",
    "publisher_counts = publisher_df.sum().sort_values(ascending=False)\n",
    "print(publisher_counts)"
   ]
  },
  {
   "cell_type": "code",
   "execution_count": null,
   "id": "52af96ea",
   "metadata": {},
   "outputs": [],
   "source": [
    "outlier_rows = df[df['average_rating'] > 5]\n",
    "\n",
    "# Display the rows with average_rating greater than 5\n",
    "print(\"Rows with average_rating greater than 5:\")\n",
    "print(outlier_rows)"
   ]
  },
  {
   "cell_type": "code",
   "execution_count": null,
   "id": "3f49c9d1",
   "metadata": {},
   "outputs": [],
   "source": [
    "# Get the top 10 publishers\n",
    "top_n = 15\n",
    "top_publishers = publisher_counts.head(top_n)\n",
    "\n",
    "# Plotting the top N publishers\n",
    "plt.figure(figsize=(12, 6))\n",
    "top_publishers.plot(kind='bar')\n",
    "plt.title(f'Top {top_n} Publishers by Number of Books')\n",
    "plt.xlabel('Publisher')\n",
    "plt.ylabel('Number of Books')\n",
    "plt.xticks(rotation=45, ha='right')\n",
    "plt.tight_layout()\n",
    "plt.show()"
   ]
  },
  {
   "cell_type": "code",
   "execution_count": null,
   "id": "77ee8820",
   "metadata": {},
   "outputs": [],
   "source": [
    "author_df=pd.get_dummies(df['authors'])\n",
    "author_df.head(5)"
   ]
  },
  {
   "cell_type": "code",
   "execution_count": null,
   "id": "4d243e7e",
   "metadata": {},
   "outputs": [],
   "source": [
    "df[df['authors']=='Donald A. Norman'].count()"
   ]
  },
  {
   "cell_type": "markdown",
   "id": "fa596761",
   "metadata": {},
   "source": [
    "# Standarization "
   ]
  },
  {
   "cell_type": "code",
   "execution_count": null,
   "id": "340bc6f9",
   "metadata": {},
   "outputs": [],
   "source": [
    "features = pd.concat([rating_df, language_df, df['average_rating'],\n",
    "                      df['ratings_count'], df['title'], publisher_df, author_df], axis=1)\n",
    "features.set_index('title', inplace=True)\n",
    "\n",
    "features.head()"
   ]
  },
  {
   "cell_type": "code",
   "execution_count": null,
   "id": "3f183fb3",
   "metadata": {},
   "outputs": [],
   "source": [
    "# Plot KDE for each numerical column\n",
    "features.plot(kind='kde', subplots=True, layout=(3, 3), figsize=(15, 10), sharex=False)\n",
    "plt.suptitle('KDE Plots of Features')\n",
    "plt.show()"
   ]
  },
  {
   "cell_type": "code",
   "execution_count": null,
   "id": "83d3bf26",
   "metadata": {},
   "outputs": [],
   "source": [
    "# Separate continuous and categorical features\n",
    "continuous_features = features[['average_rating', 'ratings_count']]\n",
    "categorical_features = features.drop(columns=['average_rating', 'ratings_count'])"
   ]
  },
  {
   "cell_type": "code",
   "execution_count": null,
   "id": "65920901",
   "metadata": {},
   "outputs": [],
   "source": [
    "from sklearn.preprocessing import StandardScaler"
   ]
  },
  {
   "cell_type": "code",
   "execution_count": null,
   "id": "036d5324",
   "metadata": {},
   "outputs": [],
   "source": [
    "# Scale the continuous features only\n",
    "scaler = StandardScaler()\n",
    "continuous_features_scaled = scaler.fit_transform(continuous_features)\n",
    "\n",
    "# Combine scaled continuous features with categorical features\n",
    "# Note: categorical_features is a DataFrame, so we can concatenate it back\n",
    "features_scaled = np.hstack((continuous_features_scaled, categorical_features.values))\n",
    "print(features_scaled)\n"
   ]
  },
  {
   "cell_type": "code",
   "execution_count": null,
   "id": "1096f0ae",
   "metadata": {},
   "outputs": [],
   "source": [
    "features_scaled"
   ]
  },
  {
   "cell_type": "markdown",
   "id": "18fd0a89",
   "metadata": {},
   "source": [
    "# Model Building"
   ]
  },
  {
   "cell_type": "code",
   "execution_count": null,
   "id": "c28ebf5f",
   "metadata": {},
   "outputs": [],
   "source": [
    "from sklearn import neighbors"
   ]
  },
  {
   "cell_type": "code",
   "execution_count": null,
   "id": "94cc4eed",
   "metadata": {},
   "outputs": [],
   "source": [
    "model = neighbors.NearestNeighbors(n_neighbors=30, algorithm='ball_tree', metric='euclidean')\n",
    "model.fit(features_scaled)\n",
    "dist, idlist = model.kneighbors(features_scaled)"
   ]
  },
  {
   "cell_type": "code",
   "execution_count": null,
   "id": "6477edc2",
   "metadata": {},
   "outputs": [],
   "source": [
    "df['title'].value_counts()"
   ]
  },
  {
   "cell_type": "code",
   "execution_count": null,
   "id": "1d7d5e2a",
   "metadata": {},
   "outputs": [],
   "source": [
    "def BookRecommender(input_title):\n",
    "    # Step 1: Check if the title exists in the DataFrame\n",
    "    if input_title not in df['title'].values:\n",
    "        print(f\"Title '{input_title}' not found in the dataset.\")\n",
    "        return []\n",
    "    \n",
    "    # Step 2: Retrieve the index of the input title\n",
    "    title_index = df[df['title'] == input_title].index[0]\n",
    "    \n",
    "    # Step 3: Create the feature vector for the input title\n",
    "    feature_vector = features_scaled[title_index].reshape(1, -1)\n",
    "    \n",
    "    print(\"Feature Vector:\", feature_vector)\n",
    "    \n",
    "    # Step 4: Find nearest neighbors\n",
    "    distances, indices = model.kneighbors(feature_vector, n_neighbors=30)\n",
    "    \n",
    "    # Step 5: Retrieve recommended book titles based on indices\n",
    "    recommended_books = []\n",
    "    \n",
    "    # Include the original book in recommendations\n",
    "    original_book = df.iloc[title_index][['title', 'authors']].to_dict()\n",
    "    recommended_books.append(original_book)\n",
    "\n",
    "    for idx in indices[0]:\n",
    "        if idx != title_index:  # Avoid recommending the same book again\n",
    "            recommended_books.append(df.iloc[idx][['title', 'authors']].to_dict())\n",
    "            if len(recommended_books) >= 30:  # Limit to 30 recommendations total\n",
    "                break\n",
    "    \n",
    "    # Format output for all recommended books with their respective publishers\n",
    "    formatted_recommendations = [\n",
    "        f\"{row['title']} by {row['authors']}\" for row in recommended_books\n",
    "    ]\n",
    "    \n",
    "    return formatted_recommendations"
   ]
  },
  {
   "cell_type": "code",
   "execution_count": null,
   "id": "78e43287",
   "metadata": {},
   "outputs": [],
   "source": [
    "def recommend_by_publisher(input_publisher):\n",
    "    # Check if publisher exists in DataFrame columns\n",
    "    if input_publisher not in features.columns:\n",
    "        print(f\"Publisher '{input_publisher}' not found in the dataset.\")\n",
    "        return []\n",
    "    \n",
    "    # Step 1: Retrieve books by the input publisher\n",
    "    books_by_input_publisher = df[df['publisher'] == input_publisher]\n",
    "    recommended_books = books_by_input_publisher[['title', 'authors', 'publisher']].copy()\n",
    "    \n",
    "    # Check if we have enough books\n",
    "    if len(recommended_books) >= 30:\n",
    "        # Format output for books from the input publisher\n",
    "        return [f\"{row['title']} by {row['authors']}, ({row['publisher']})\" for _, row in recommended_books.iterrows()]\n",
    "    \n",
    "    # Step 2: If not enough books, find similar publishers\n",
    "    feature_vector = np.zeros(features.shape[1])\n",
    "    \n",
    "    # Set the corresponding index for the input publisher to 1\n",
    "    feature_vector[features.columns.get_loc(input_publisher)] = 1\n",
    "    \n",
    "    # Set average values for continuous features\n",
    "    average_rating = df['average_rating'].mean()  \n",
    "    ratings_count = df['ratings_count'].mean()  \n",
    "    \n",
    "    # Prepare an array with both continuous features for scaling\n",
    "    continuous_features = np.array([[average_rating, ratings_count]])\n",
    "    \n",
    "    # Assign scaled values for continuous features\n",
    "    scaled_values = scaler.transform(continuous_features)\n",
    "    \n",
    "    feature_vector[features.columns.get_loc('average_rating')] = scaled_values[0][0]\n",
    "    feature_vector[features.columns.get_loc('ratings_count')] = scaled_values[0][1]\n",
    "    \n",
    "    # Reshape for model prediction\n",
    "    feature_vector = feature_vector.reshape(1, -1)\n",
    "    \n",
    "    print(\"Feature Vector:\", feature_vector)\n",
    "    \n",
    "    # Find nearest neighbors\n",
    "    distances, indices = model.kneighbors(feature_vector, n_neighbors=30)\n",
    "    \n",
    "    # Step 3: Retrieve recommended book titles based on indices of similar publishers\n",
    "    similar_publishers_indices = indices[0]\n",
    "    \n",
    "    # Get unique publishers from the similar publishers' indices\n",
    "    similar_publishers = df.iloc[similar_publishers_indices]['publisher'].unique()\n",
    "    \n",
    "    additional_recommendations = []\n",
    "    \n",
    "    for publisher in similar_publishers:\n",
    "        if publisher != input_publisher:  # Avoid recommending from the same publisher again\n",
    "            additional_books = df[df['publisher'] == publisher][['title', 'authors', 'publisher']]\n",
    "            additional_recommendations.extend(additional_books.to_dict(orient='records'))\n",
    "            if len(additional_recommendations) >= (30 - len(recommended_books)):\n",
    "                break\n",
    "    \n",
    "    # Combine recommendations\n",
    "    all_recommended_books = recommended_books.to_dict(orient='records') + additional_recommendations\n",
    "    \n",
    "    # Format output for all recommended books with their respective publishers\n",
    "    formatted_recommendations = [\n",
    "        f\"{row['title']} by {row['authors']}, ({row['publisher']})\" for row in all_recommended_books\n",
    "    ]\n",
    "    \n",
    "    # Limit to maximum of 25 recommendations and return formatted list\n",
    "    return formatted_recommendations[:30]\n"
   ]
  },
  {
   "cell_type": "code",
   "execution_count": null,
   "id": "37cfa48f",
   "metadata": {},
   "outputs": [],
   "source": [
    "def recommend_by_author(input_author):\n",
    "    # Step 1: Check if author exists in DataFrame without normalization\n",
    "    if input_author not in df['authors'].values:\n",
    "        print(f\"Author '{input_author}' not found in the dataset.\")\n",
    "        return []\n",
    "    \n",
    "    # Step 2: Retrieve books by the input author\n",
    "    books_by_input_author = df[df['authors'] == input_author]\n",
    "    recommended_books = books_by_input_author[['title', 'authors']].copy()\n",
    "    \n",
    "    # Check if we have enough books\n",
    "    if len(recommended_books) >= 30:\n",
    "        # Format output for books from the input author\n",
    "        return [f\"{row['title']} by {row['authors']}\" for _, row in recommended_books.iterrows()]\n",
    "    \n",
    "    # Step 3: If not enough books, find similar authors (without normalization)\n",
    "    feature_vector = np.zeros(features.shape[1])\n",
    "    \n",
    "    # Attempt to get the feature index directly from input author name\n",
    "    try:\n",
    "        feature_index = features.columns.get_loc(input_author)\n",
    "        feature_vector[feature_index] = 1\n",
    "    except KeyError:\n",
    "        print(f\"Author '{input_author}' not found in features.\")\n",
    "        return []\n",
    "    \n",
    "    # Set average values for continuous features\n",
    "    average_rating = df['average_rating'].mean()  \n",
    "    ratings_count = df['ratings_count'].mean()  \n",
    "    \n",
    "    # Prepare an array with both continuous features for scaling\n",
    "    continuous_features = np.array([[average_rating, ratings_count]])\n",
    "    \n",
    "    # Assign scaled values for continuous features\n",
    "    scaled_values = scaler.transform(continuous_features)\n",
    "    \n",
    "    feature_vector[features.columns.get_loc('average_rating')] = scaled_values[0][0]\n",
    "    feature_vector[features.columns.get_loc('ratings_count')] = scaled_values[0][1]\n",
    "    \n",
    "    # Reshape for model prediction\n",
    "    feature_vector = feature_vector.reshape(1, -1)\n",
    "    \n",
    "    print(\"Feature Vector:\", feature_vector)\n",
    "    \n",
    "    # Find nearest neighbors\n",
    "    distances, indices = model.kneighbors(feature_vector, n_neighbors=30)\n",
    "    \n",
    "    # Step 4: Retrieve recommended book titles based on indices of similar authors\n",
    "    similar_authors_indices = indices[0]\n",
    "    \n",
    "    additional_recommendations = []\n",
    "    \n",
    "    for idx in similar_authors_indices:\n",
    "        similar_author = df.iloc[idx]['authors']\n",
    "        \n",
    "        if similar_author != input_author:  # Avoid recommending from the same author again\n",
    "            additional_books = df[df['authors'] == similar_author][['title', 'authors']]\n",
    "            additional_recommendations.extend(additional_books.to_dict(orient='records'))\n",
    "            if len(additional_recommendations) >= (30 - len(recommended_books)):\n",
    "                break\n",
    "    \n",
    "    # Combine recommendations\n",
    "    all_recommended_books = recommended_books.to_dict(orient='records') + additional_recommendations\n",
    "    \n",
    "    # Format output for all recommended books with their respective publishers\n",
    "    formatted_recommendations = [\n",
    "        f\"{row['title']} by {row['authors']}\" for row in all_recommended_books\n",
    "    ]\n",
    "    \n",
    "    # Limit to maximum of 25 recommendations and return formatted list\n",
    "    return formatted_recommendations[:30]\n",
    "\n"
   ]
  },
  {
   "cell_type": "code",
   "execution_count": null,
   "id": "9f65f75f",
   "metadata": {},
   "outputs": [],
   "source": [
    "def recommend_books_by_rating(input_rating):\n",
    "    # Filter books based on the input rating\n",
    "    filtered_books = df[df['average_rating'] >= input_rating]\n",
    "    \n",
    "    # Sort the filtered books by average rating in descending order\n",
    "    sorted_books = filtered_books.sort_values(by='average_rating', ascending=False)\n",
    "    \n",
    "    # Get the top 100 books or all available if fewer than 100\n",
    "    recommended_books = sorted_books.head(100)\n",
    "    \n",
    "    # Format the output\n",
    "    book_list_info = [f\"{row['title']} by {row['authors']} \" for index, row in recommended_books.iterrows()]\n",
    "    \n",
    "    return book_list_info\n"
   ]
  },
  {
   "cell_type": "code",
   "execution_count": null,
   "id": "cabcbdef",
   "metadata": {},
   "outputs": [],
   "source": []
  },
  {
   "cell_type": "code",
   "execution_count": null,
   "id": "858ec4dc",
   "metadata": {},
   "outputs": [],
   "source": []
  },
  {
   "cell_type": "code",
   "execution_count": null,
   "id": "74e7bfdf",
   "metadata": {},
   "outputs": [],
   "source": []
  }
 ],
 "metadata": {
  "kernelspec": {
   "display_name": "base",
   "language": "python",
   "name": "python3"
  },
  "language_info": {
   "codemirror_mode": {
    "name": "ipython",
    "version": 3
   },
   "file_extension": ".py",
   "mimetype": "text/x-python",
   "name": "python",
   "nbconvert_exporter": "python",
   "pygments_lexer": "ipython3",
   "version": "3.12.3"
  }
 },
 "nbformat": 4,
 "nbformat_minor": 5
}
